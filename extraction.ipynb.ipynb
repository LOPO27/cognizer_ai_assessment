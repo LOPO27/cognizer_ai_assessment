{
 "cells": [
  {
   "cell_type": "code",
   "execution_count": 33,
   "metadata": {},
   "outputs": [],
   "source": [
    "import groq\n",
    "import os\n",
    "import pandas as pd\n",
    "from dotenv import load_dotenv\n",
    "from langchain.document_loaders import PyPDFLoader\n",
    "from langchain.document_loaders import UnstructuredWordDocumentLoader\n",
    "from langchain.text_splitter import RecursiveCharacterTextSplitter"
   ]
  },
  {
   "cell_type": "code",
   "execution_count": 34,
   "metadata": {},
   "outputs": [],
   "source": [
    "\"\"\"\n",
    "1. Load environment variables from a .env file (if it exists).\n",
    "2. Retrieve the GROQ_API_KEY from the environment variables.\n",
    "3. Initialize the Groq client using the retrieved API key.\n",
    "\"\"\"\n",
    "\n",
    "load_dotenv()\n",
    "\n",
    "GROQ_API_KEY = os.getenv(\"GROQ_API_KEY\")\n",
    "client = groq.Client(api_key=GROQ_API_KEY)"
   ]
  },
  {
   "cell_type": "code",
   "execution_count": 35,
   "metadata": {},
   "outputs": [
    {
     "name": "stdout",
     "output_type": "stream",
     "text": [
      "Total documents loaded: 38\n"
     ]
    }
   ],
   "source": [
    "\"\"\"\n",
    "1. This code initializes the UnstructuredWordDocumentLoader with the path to the PDF file \"contract_interview.pdf\".\n",
    "2. It then loads the docx document and splits it into individual pages or sections.\n",
    "\"\"\"\n",
    "\n",
    "loader = UnstructuredWordDocumentLoader(\"contract_interview.docx\")\n",
    "documents = loader.load_and_split()\n",
    "\n",
    "print(f\"Total documents loaded: {len(documents)}\")"
   ]
  },
  {
   "cell_type": "code",
   "execution_count": 38,
   "metadata": {},
   "outputs": [
    {
     "name": "stdout",
     "output_type": "stream",
     "text": [
      "Total chunks: 100\n"
     ]
    }
   ],
   "source": [
    "\"\"\"\n",
    "This code initializes a RecursiveCharacterTextSplitter to split documents into smaller chunks.\n",
    "\n",
    "Parameters:\n",
    "    - chunk_size: Maximum size of each chunk (in characters).\n",
    "    - chunk_overlap: Number of overlapping characters between consecutive chunks.\n",
    "    - length_function: Function to calculate the length of the text (default is `len`).\n",
    "\n",
    "The text splitter is then used to split the input documents into smaller, manageable chunks.\n",
    "\"\"\"\n",
    "\n",
    "text_splitter = RecursiveCharacterTextSplitter(\n",
    "    chunk_size=2000,  \n",
    "    chunk_overlap=300,  \n",
    "    length_function=len,\n",
    ")\n",
    "\n",
    "text_chunks = text_splitter.split_documents(documents)\n",
    "print(f\"Total chunks: {len(text_chunks)}\")"
   ]
  },
  {
   "cell_type": "code",
   "execution_count": 40,
   "metadata": {},
   "outputs": [],
   "source": [
    "def extract_clauses_with_groq(text_chunk):\n",
    "    \n",
    "    \"\"\"\n",
    "    Extracts all occurrences of the \"Audit & Inspection Rights\" clause from a given contract text using the Groq API.\n",
    "\n",
    "    Args:\n",
    "        text_chunk (str): The contract text from which to extract the clauses.\n",
    "\n",
    "    Returns:\n",
    "        str: The extracted \"Audit & Inspection Rights\" clauses as a string, formatted by the Groq API.\n",
    "\n",
    "    \"\"\"\n",
    "    \n",
    "    prompt = \"\"\"\n",
    "    Extract all occurrences of the \"Audit & Inspection Rights\" clause from the following contract text. \n",
    "    The clause should include:\n",
    "    1. The right of one party to audit the books and records of another party.\n",
    "    2. The right of one party to give or receive access to the books and records of another party.\n",
    "    3. The right to inspect or examine the premises, books, accounts, records, papers, or other specified items.\n",
    "    4. The obligation of one party to maintain or retain records, files, books, accounts, or papers for the purpose of audit or inspection.\n",
    "    5. The obligation of a party to follow certain procedures and rules with respect to conducting the audit.\n",
    "\n",
    "    Exclude:\n",
    "    1. Governmental and regulatory audits and inspections.\n",
    "    2. Inspection rights on the delivery of products specifically if they are related to acceptance testing.\n",
    "    3. Definitions for “auditor”.\n",
    "\n",
    "    Contract Text:\n",
    "    {text_chunk}\n",
    "    \"\"\"\n",
    "\n",
    "    response = client.chat.completions.create(\n",
    "        model=\"mixtral-8x7b-32768\",\n",
    "        messages=[{\"role\": \"user\", \"content\": prompt.format(text_chunk=text_chunk)}],\n",
    "        max_tokens=1024,  \n",
    "        temperature=0.2,  \n",
    "    )\n",
    "    return response.choices[0].message.content.strip()\n"
   ]
  },
  {
   "cell_type": "code",
   "execution_count": 41,
   "metadata": {},
   "outputs": [],
   "source": [
    "\"\"\"\n",
    "1. Initialize an empty list to store the extracted clauses from each text chunk.\n",
    "2. Iterate over each chunk in the list of text chunks.\n",
    "3. Use the `extract_clauses_with_groq` function to extract clauses from the current chunk's content.\n",
    "4. Append the extracted clauses to the `extracted_clauses` list.\n",
    "5. Create a pandas DataFrame with the extracted clauses, storing them in a column named 'extracted_content'.\n",
    "5. Save the DataFrame to an Excel file named 'extracted_content.xlsx'.\n",
    "\"\"\"\n",
    "\n",
    "extracted_clauses = []\n",
    "for chunk in text_chunks:\n",
    "    clauses = extract_clauses_with_groq(chunk.page_content)\n",
    "    extracted_clauses.append(clauses)\n",
    "\n",
    "df=pd.DataFrame({'text_chunk': text_chunks,'Extracted Content': extracted_clauses})\n",
    "df.to_excel('extracted_content_1.xlsx')\n"
   ]
  },
  {
   "cell_type": "code",
   "execution_count": null,
   "metadata": {},
   "outputs": [],
   "source": []
  }
 ],
 "metadata": {
  "kernelspec": {
   "display_name": "meraVm_env",
   "language": "python",
   "name": "python3"
  },
  "language_info": {
   "codemirror_mode": {
    "name": "ipython",
    "version": 3
   },
   "file_extension": ".py",
   "mimetype": "text/x-python",
   "name": "python",
   "nbconvert_exporter": "python",
   "pygments_lexer": "ipython3",
   "version": "3.9.0"
  }
 },
 "nbformat": 4,
 "nbformat_minor": 2
}
